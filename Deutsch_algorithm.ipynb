{
 "cells": [
  {
   "cell_type": "code",
   "execution_count": 4,
   "id": "91fd07c2",
   "metadata": {},
   "outputs": [],
   "source": [
    "#Deutsch algorithm\n",
    "\n",
    "#It is a quantum algorithm used to determine whether a function is constant or balanced\n",
    "#The output of the constant function is always the same f(0)=0 and f(1)=0 or f(0)=1 and f(1)=1\n",
    "#Balanced Function returns 0 for half of the inputs and 1 for the other half\n"
   ]
  },
  {
   "cell_type": "code",
   "execution_count": 5,
   "id": "2cf10160",
   "metadata": {},
   "outputs": [],
   "source": [
    "#Two qubits are used in the circuit, the first qubit is in the ∣0⟩ state, the second qubit is in the ∣1⟩ state\n",
    "#Hadamard gate is applied\n",
    "#Quantum oracle functions change the phase of qubits\n",
    "#Finally, the Hadamard gate is applied to the first qubit again and the measurement is made.\n",
    "##if the measurement result is 0 then the function is Constant, if it is 1 then the function is Balanced\n"
   ]
  },
  {
   "cell_type": "code",
   "execution_count": 6,
   "id": "0aa3f18b",
   "metadata": {},
   "outputs": [],
   "source": [
    "\n",
    "from qiskit import QuantumCircuit\n",
    "from qiskit.visualization import plot_histogram\n",
    "from qiskit.circuit import Gate"
   ]
  },
  {
   "cell_type": "code",
   "execution_count": 7,
   "id": "00b74b72",
   "metadata": {},
   "outputs": [],
   "source": [
    "#create two oracle functions\n",
    "\n",
    "# Constant : f(0) = 0, f(1) = 0 \n",
    "# Balanced : uses CNOT gate"
   ]
  },
  {
   "cell_type": "code",
   "execution_count": 8,
   "id": "f2fc255f",
   "metadata": {},
   "outputs": [],
   "source": [
    "# constant oracle function \n",
    "def constant_oracle():\n",
    "    qc = QuantumCircuit(2)\n",
    "    return qc"
   ]
  },
  {
   "cell_type": "code",
   "execution_count": 9,
   "id": "8af7b5e4",
   "metadata": {},
   "outputs": [],
   "source": [
    "# balanced oracle function\n",
    "def balanced_oracle():\n",
    "    qc = QuantumCircuit(2)\n",
    "    qc.cx(0, 1)\n",
    "    return qc"
   ]
  },
  {
   "cell_type": "code",
   "execution_count": 10,
   "id": "d03bf2e5",
   "metadata": {},
   "outputs": [],
   "source": [
    "def deutsch_algorithm(oracle):\n",
    "    \n",
    "    qc = QuantumCircuit(2, 1)\n",
    "    qc.x(1)  # gate X : input qubit is in state |0>, output qubit is in state |1>\n",
    "    print(qc)\n",
    "    qc.barrier()\n",
    "\n",
    "    qc.h(0)  # make superposition with hadamard gate\n",
    "    qc.h(1) \n",
    "    print(qc)\n",
    "\n",
    "    qc.barrier()\n",
    "\n",
    "    qc.append(oracle, [0, 1]) #Apply oracle functions\n",
    "    print(qc)\n",
    "    \n",
    "    qc.barrier()\n",
    "    \n",
    "    qc.h(0) #finally apply the Hadamard gate to the input qubit again\n",
    "    print(qc)\n",
    "    qc.barrier()\n",
    "\n",
    "    qc.measure(0, 0) # take measurements\n",
    "    return qc"
   ]
  },
  {
   "cell_type": "code",
   "execution_count": 11,
   "id": "cbf55f70",
   "metadata": {},
   "outputs": [
    {
     "name": "stdout",
     "output_type": "stream",
     "text": [
      "          \n",
      "q_0: ─────\n",
      "     ┌───┐\n",
      "q_1: ┤ X ├\n",
      "     └───┘\n",
      "c: 1/═════\n",
      "          \n",
      "           ░ ┌───┐\n",
      "q_0: ──────░─┤ H ├\n",
      "     ┌───┐ ░ ├───┤\n",
      "q_1: ┤ X ├─░─┤ H ├\n",
      "     └───┘ ░ └───┘\n",
      "c: 1/═════════════\n",
      "                  \n",
      "           ░ ┌───┐ ░ ┌──────────────┐\n",
      "q_0: ──────░─┤ H ├─░─┤0             ├\n",
      "     ┌───┐ ░ ├───┤ ░ │  circuit-166 │\n",
      "q_1: ┤ X ├─░─┤ H ├─░─┤1             ├\n",
      "     └───┘ ░ └───┘ ░ └──────────────┘\n",
      "c: 1/════════════════════════════════\n",
      "                                     \n",
      "           ░ ┌───┐ ░ ┌──────────────┐ ░ ┌───┐\n",
      "q_0: ──────░─┤ H ├─░─┤0             ├─░─┤ H ├\n",
      "     ┌───┐ ░ ├───┤ ░ │  circuit-166 │ ░ └───┘\n",
      "q_1: ┤ X ├─░─┤ H ├─░─┤1             ├─░──────\n",
      "     └───┘ ░ └───┘ ░ └──────────────┘ ░      \n",
      "c: 1/════════════════════════════════════════\n",
      "                                             \n",
      "           ░ ┌───┐ ░ ┌──────────────┐ ░ ┌───┐ ░ ┌─┐\n",
      "q_0: ──────░─┤ H ├─░─┤0             ├─░─┤ H ├─░─┤M├\n",
      "     ┌───┐ ░ ├───┤ ░ │  circuit-166 │ ░ └───┘ ░ └╥┘\n",
      "q_1: ┤ X ├─░─┤ H ├─░─┤1             ├─░───────░──╫─\n",
      "     └───┘ ░ └───┘ ░ └──────────────┘ ░       ░  ║ \n",
      "c: 1/════════════════════════════════════════════╩═\n",
      "                                                 0 \n"
     ]
    }
   ],
   "source": [
    "# Constant oracle circuit\n",
    "constant_circuit = deutsch_algorithm(constant_oracle())\n",
    "print(constant_circuit)"
   ]
  },
  {
   "cell_type": "code",
   "execution_count": 12,
   "id": "7e8a8b5e",
   "metadata": {},
   "outputs": [
    {
     "name": "stdout",
     "output_type": "stream",
     "text": [
      "          \n",
      "q_0: ─────\n",
      "     ┌───┐\n",
      "q_1: ┤ X ├\n",
      "     └───┘\n",
      "c: 1/═════\n",
      "          \n",
      "           ░ ┌───┐\n",
      "q_0: ──────░─┤ H ├\n",
      "     ┌───┐ ░ ├───┤\n",
      "q_1: ┤ X ├─░─┤ H ├\n",
      "     └───┘ ░ └───┘\n",
      "c: 1/═════════════\n",
      "                  \n",
      "           ░ ┌───┐ ░ ┌──────────────┐\n",
      "q_0: ──────░─┤ H ├─░─┤0             ├\n",
      "     ┌───┐ ░ ├───┤ ░ │  circuit-170 │\n",
      "q_1: ┤ X ├─░─┤ H ├─░─┤1             ├\n",
      "     └───┘ ░ └───┘ ░ └──────────────┘\n",
      "c: 1/════════════════════════════════\n",
      "                                     \n",
      "           ░ ┌───┐ ░ ┌──────────────┐ ░ ┌───┐\n",
      "q_0: ──────░─┤ H ├─░─┤0             ├─░─┤ H ├\n",
      "     ┌───┐ ░ ├───┤ ░ │  circuit-170 │ ░ └───┘\n",
      "q_1: ┤ X ├─░─┤ H ├─░─┤1             ├─░──────\n",
      "     └───┘ ░ └───┘ ░ └──────────────┘ ░      \n",
      "c: 1/════════════════════════════════════════\n",
      "                                             \n",
      "           ░ ┌───┐ ░ ┌──────────────┐ ░ ┌───┐ ░ ┌─┐\n",
      "q_0: ──────░─┤ H ├─░─┤0             ├─░─┤ H ├─░─┤M├\n",
      "     ┌───┐ ░ ├───┤ ░ │  circuit-170 │ ░ └───┘ ░ └╥┘\n",
      "q_1: ┤ X ├─░─┤ H ├─░─┤1             ├─░───────░──╫─\n",
      "     └───┘ ░ └───┘ ░ └──────────────┘ ░       ░  ║ \n",
      "c: 1/════════════════════════════════════════════╩═\n",
      "                                                 0 \n"
     ]
    }
   ],
   "source": [
    "# Balanced Oracle circuit\n",
    "balanced_circuit = deutsch_algorithm(balanced_oracle())\n",
    "print(balanced_circuit)"
   ]
  }
 ],
 "metadata": {
  "kernelspec": {
   "display_name": "Python 3",
   "language": "python",
   "name": "python3"
  },
  "language_info": {
   "codemirror_mode": {
    "name": "ipython",
    "version": 3
   },
   "file_extension": ".py",
   "mimetype": "text/x-python",
   "name": "python",
   "nbconvert_exporter": "python",
   "pygments_lexer": "ipython3",
   "version": "3.13.5"
  }
 },
 "nbformat": 4,
 "nbformat_minor": 5
}
