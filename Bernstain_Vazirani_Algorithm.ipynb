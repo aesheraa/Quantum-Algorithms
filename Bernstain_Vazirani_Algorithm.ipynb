{
 "cells": [
  {
   "cell_type": "code",
   "execution_count": 11,
   "id": "94a314b0",
   "metadata": {},
   "outputs": [],
   "source": [
    "#Bernstein-Vazirani algorithm\n",
    "#The goal is to find a secret bit string by performing a single query\n",
    "#(In Classical Algorithm we need to make n queries)\n",
    "\n",
    "# Algorithm Steps ;\n",
    "# Prepare the initial state ∣0⟩ ⊗n ∣1⟩\n",
    "# make superposition the input qubits\n",
    "# Apply Oracles\n",
    "# Apply the inverse transform again with Hadamard and measure the array"
   ]
  },
  {
   "cell_type": "code",
   "execution_count": 12,
   "id": "0de5e2b1",
   "metadata": {},
   "outputs": [],
   "source": [
    "import qiskit\n",
    "from qiskit import QuantumCircuit\n",
    "from qiskit.visualization import plot_histogram\n",
    "from qiskit.circuit import Gate;"
   ]
  },
  {
   "cell_type": "code",
   "execution_count": 13,
   "id": "928aa989",
   "metadata": {},
   "outputs": [],
   "source": [
    "# create bit array and Quantum Circuit\n",
    "s = '110101'\n",
    "n = len(s)\n",
    "circuit = QuantumCircuit(n+1,n)"
   ]
  },
  {
   "cell_type": "code",
   "execution_count": 14,
   "id": "1ab85090",
   "metadata": {},
   "outputs": [
    {
     "data": {
      "text/plain": [
       "CircuitInstruction(operation=Instruction(name='barrier', num_qubits=7, num_clbits=0, params=[]), qubits=(<Qubit register=(7, \"q\"), index=0>, <Qubit register=(7, \"q\"), index=1>, <Qubit register=(7, \"q\"), index=2>, <Qubit register=(7, \"q\"), index=3>, <Qubit register=(7, \"q\"), index=4>, <Qubit register=(7, \"q\"), index=5>, <Qubit register=(7, \"q\"), index=6>), clbits=())"
      ]
     },
     "execution_count": 14,
     "metadata": {},
     "output_type": "execute_result"
    }
   ],
   "source": [
    "# Apply X gate then Hadamard gate\n",
    "circuit.x(n) \n",
    "circuit.barrier() \n",
    "\n",
    "circuit.h(range(n+1)) \n",
    "circuit.barrier() \n",
    "# (Ensures that the Oracle result is entangle with the last qubit)"
   ]
  },
  {
   "cell_type": "code",
   "execution_count": 15,
   "id": "89346fa2",
   "metadata": {},
   "outputs": [
    {
     "data": {
      "text/plain": [
       "CircuitInstruction(operation=Instruction(name='barrier', num_qubits=7, num_clbits=0, params=[]), qubits=(<Qubit register=(7, \"q\"), index=0>, <Qubit register=(7, \"q\"), index=1>, <Qubit register=(7, \"q\"), index=2>, <Qubit register=(7, \"q\"), index=3>, <Qubit register=(7, \"q\"), index=4>, <Qubit register=(7, \"q\"), index=5>, <Qubit register=(7, \"q\"), index=6>), clbits=())"
      ]
     },
     "execution_count": 15,
     "metadata": {},
     "output_type": "execute_result"
    }
   ],
   "source": [
    "\n",
    "for ii, yesno in enumerate(reversed(s)): \n",
    "    \n",
    "    if yesno == '1': \n",
    "        circuit.cx(ii, n)\n",
    "       #if there is a '1' in the array bit then X gate is applied\n",
    "       #oracle checks all inputs in the superposition simultaneously and encodes the result on the last qubit\n",
    "           \n",
    "circuit.barrier() "
   ]
  },
  {
   "cell_type": "code",
   "execution_count": 16,
   "id": "bd8a32ac",
   "metadata": {},
   "outputs": [
    {
     "data": {
      "text/plain": [
       "<qiskit.circuit.instructionset.InstructionSet at 0x29f9eeff730>"
      ]
     },
     "execution_count": 16,
     "metadata": {},
     "output_type": "execute_result"
    }
   ],
   "source": [
    "\n",
    "circuit.h(range(n+1))\n",
    "#apply hadmard to all qubits\n",
    "#(To reflect the effect of the Oracle function back to the \"input qubits\")\n",
    "\n",
    "circuit.barrier()\n",
    "circuit.measure(range(n), range(n)) "
   ]
  },
  {
   "cell_type": "code",
   "execution_count": 17,
   "id": "5328acee",
   "metadata": {},
   "outputs": [
    {
     "data": {
      "text/html": [
       "<pre style=\"word-wrap: normal;white-space: pre;background: #fff0;line-height: 1.1;font-family: &quot;Courier New&quot;,Courier,monospace\">           ░ ┌───┐ ░                      ░ ┌───┐ ░ ┌─┐               \n",
       "q_0: ──────░─┤ H ├─░───■──────────────────░─┤ H ├─░─┤M├───────────────\n",
       "           ░ ├───┤ ░   │                  ░ ├───┤ ░ └╥┘┌─┐            \n",
       "q_1: ──────░─┤ H ├─░───┼──────────────────░─┤ H ├─░──╫─┤M├────────────\n",
       "           ░ ├───┤ ░   │                  ░ ├───┤ ░  ║ └╥┘┌─┐         \n",
       "q_2: ──────░─┤ H ├─░───┼────■─────────────░─┤ H ├─░──╫──╫─┤M├─────────\n",
       "           ░ ├───┤ ░   │    │             ░ ├───┤ ░  ║  ║ └╥┘┌─┐      \n",
       "q_3: ──────░─┤ H ├─░───┼────┼─────────────░─┤ H ├─░──╫──╫──╫─┤M├──────\n",
       "           ░ ├───┤ ░   │    │             ░ ├───┤ ░  ║  ║  ║ └╥┘┌─┐   \n",
       "q_4: ──────░─┤ H ├─░───┼────┼────■────────░─┤ H ├─░──╫──╫──╫──╫─┤M├───\n",
       "           ░ ├───┤ ░   │    │    │        ░ ├───┤ ░  ║  ║  ║  ║ └╥┘┌─┐\n",
       "q_5: ──────░─┤ H ├─░───┼────┼────┼────■───░─┤ H ├─░──╫──╫──╫──╫──╫─┤M├\n",
       "     ┌───┐ ░ ├───┤ ░ ┌─┴─┐┌─┴─┐┌─┴─┐┌─┴─┐ ░ ├───┤ ░  ║  ║  ║  ║  ║ └╥┘\n",
       "q_6: ┤ X ├─░─┤ H ├─░─┤ X ├┤ X ├┤ X ├┤ X ├─░─┤ H ├─░──╫──╫──╫──╫──╫──╫─\n",
       "     └───┘ ░ └───┘ ░ └───┘└───┘└───┘└───┘ ░ └───┘ ░  ║  ║  ║  ║  ║  ║ \n",
       "c: 6/════════════════════════════════════════════════╩══╩══╩══╩══╩══╩═\n",
       "                                                     0  1  2  3  4  5 </pre>"
      ],
      "text/plain": [
       "           ░ ┌───┐ ░                      ░ ┌───┐ ░ ┌─┐               \n",
       "q_0: ──────░─┤ H ├─░───■──────────────────░─┤ H ├─░─┤M├───────────────\n",
       "           ░ ├───┤ ░   │                  ░ ├───┤ ░ └╥┘┌─┐            \n",
       "q_1: ──────░─┤ H ├─░───┼──────────────────░─┤ H ├─░──╫─┤M├────────────\n",
       "           ░ ├───┤ ░   │                  ░ ├───┤ ░  ║ └╥┘┌─┐         \n",
       "q_2: ──────░─┤ H ├─░───┼────■─────────────░─┤ H ├─░──╫──╫─┤M├─────────\n",
       "           ░ ├───┤ ░   │    │             ░ ├───┤ ░  ║  ║ └╥┘┌─┐      \n",
       "q_3: ──────░─┤ H ├─░───┼────┼─────────────░─┤ H ├─░──╫──╫──╫─┤M├──────\n",
       "           ░ ├───┤ ░   │    │             ░ ├───┤ ░  ║  ║  ║ └╥┘┌─┐   \n",
       "q_4: ──────░─┤ H ├─░───┼────┼────■────────░─┤ H ├─░──╫──╫──╫──╫─┤M├───\n",
       "           ░ ├───┤ ░   │    │    │        ░ ├───┤ ░  ║  ║  ║  ║ └╥┘┌─┐\n",
       "q_5: ──────░─┤ H ├─░───┼────┼────┼────■───░─┤ H ├─░──╫──╫──╫──╫──╫─┤M├\n",
       "     ┌───┐ ░ ├───┤ ░ ┌─┴─┐┌─┴─┐┌─┴─┐┌─┴─┐ ░ ├───┤ ░  ║  ║  ║  ║  ║ └╥┘\n",
       "q_6: ┤ X ├─░─┤ H ├─░─┤ X ├┤ X ├┤ X ├┤ X ├─░─┤ H ├─░──╫──╫──╫──╫──╫──╫─\n",
       "     └───┘ ░ └───┘ ░ └───┘└───┘└───┘└───┘ ░ └───┘ ░  ║  ║  ║  ║  ║  ║ \n",
       "c: 6/════════════════════════════════════════════════╩══╩══╩══╩══╩══╩═\n",
       "                                                     0  1  2  3  4  5 "
      ]
     },
     "execution_count": 17,
     "metadata": {},
     "output_type": "execute_result"
    }
   ],
   "source": [
    "%matplotlib inline\n",
    "circuit.draw()"
   ]
  }
 ],
 "metadata": {
  "kernelspec": {
   "display_name": "Python 3",
   "language": "python",
   "name": "python3"
  },
  "language_info": {
   "codemirror_mode": {
    "name": "ipython",
    "version": 3
   },
   "file_extension": ".py",
   "mimetype": "text/x-python",
   "name": "python",
   "nbconvert_exporter": "python",
   "pygments_lexer": "ipython3",
   "version": "3.13.5"
  }
 },
 "nbformat": 4,
 "nbformat_minor": 5
}
