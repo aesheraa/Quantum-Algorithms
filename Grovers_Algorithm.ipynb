{
 "cells": [
  {
   "cell_type": "code",
   "execution_count": 5,
   "id": "bca51d07",
   "metadata": {},
   "outputs": [],
   "source": [
    "# #Grover is a search algorithm\n",
    "\n",
    "#used to find the item in the database faster than traditional methods\n",
    "#useful in areas such as password cracking, database search, optimization\n",
    "\n",
    "#Finding the desired item on classic computers requires N attempts\n",
    "#Grover's algorithm can do this in √N steps"
   ]
  },
  {
   "cell_type": "code",
   "execution_count": 6,
   "id": "c0eb1566",
   "metadata": {},
   "outputs": [],
   "source": [
    "import qiskit\n",
    "from qiskit import QuantumCircuit\n",
    "from qiskit.visualization import plot_histogram"
   ]
  },
  {
   "cell_type": "code",
   "execution_count": 7,
   "id": "f24a91fa",
   "metadata": {},
   "outputs": [],
   "source": [
    "myList = [5,4,6,9,1,2,3,7,8,0]\n",
    "\n",
    "def oracle(number):\n",
    "    winningNumber = 8\n",
    "    return number == winningNumber"
   ]
  },
  {
   "cell_type": "code",
   "execution_count": 8,
   "id": "c42b9789",
   "metadata": {},
   "outputs": [
    {
     "name": "stdout",
     "output_type": "stream",
     "text": [
      "winning number index: 8\n",
      "execution count: 9\n"
     ]
    }
   ],
   "source": [
    "# Find the index of the target number with classic oracle\n",
    "for index, number in enumerate(myList):\n",
    "    if oracle(number):\n",
    "        print(f\"winning number index: {index}\") \n",
    "        print(f\"execution count: {index+1}\") \n",
    "        break"
   ]
  },
  {
   "cell_type": "code",
   "execution_count": 9,
   "id": "e26f3149",
   "metadata": {},
   "outputs": [],
   "source": [
    "# Quantum Oracle: Target status marking with CZ gate\n",
    "oracleCircuit = QuantumCircuit(2, name='oracleCircuit')\n",
    "oracleCircuit.cz(0,1)  # Applies -1 phase to |11>\n",
    "oracleGate = oracleCircuit.to_gate()"
   ]
  },
  {
   "cell_type": "code",
   "execution_count": 10,
   "id": "9932695d",
   "metadata": {},
   "outputs": [],
   "source": [
    "# Reflection: To extract the marked case from the superposition and increase the probability\n",
    "reflectionCircuit = QuantumCircuit(2, name='reflectionCircuit')\n",
    "reflectionCircuit.h([0,1])\n",
    "reflectionCircuit.z([0,1])\n",
    "reflectionCircuit.cz(0,1)\n",
    "reflectionCircuit.h([0,1])\n",
    "reflectionGate = reflectionCircuit.to_gate()"
   ]
  },
  {
   "cell_type": "code",
   "execution_count": 11,
   "id": "d8b63f0b",
   "metadata": {},
   "outputs": [
    {
     "data": {
      "text/plain": [
       "<qiskit.circuit.instructionset.InstructionSet at 0x191d4612b90>"
      ]
     },
     "execution_count": 11,
     "metadata": {},
     "output_type": "execute_result"
    }
   ],
   "source": [
    "# make superposition with hadamard gate\n",
    "mainCircuit = QuantumCircuit(2, 2)\n",
    "mainCircuit.h([0,1])"
   ]
  },
  {
   "cell_type": "code",
   "execution_count": 12,
   "id": "b3550ec7",
   "metadata": {},
   "outputs": [
    {
     "data": {
      "text/plain": [
       "<qiskit.circuit.instructionset.InstructionSet at 0x191e30cf070>"
      ]
     },
     "execution_count": 12,
     "metadata": {},
     "output_type": "execute_result"
    }
   ],
   "source": [
    "#Add reflection and oracle gates to the circuit\n",
    "mainCircuit.append(oracleGate, [0,1])\n",
    "mainCircuit.append(reflectionGate, [0,1])"
   ]
  },
  {
   "cell_type": "code",
   "execution_count": 13,
   "id": "b6dcd9a3",
   "metadata": {},
   "outputs": [
    {
     "data": {
      "text/html": [
       "<pre style=\"word-wrap: normal;white-space: pre;background: #fff0;line-height: 1.1;font-family: &quot;Courier New&quot;,Courier,monospace\">     ┌───┐┌────────────────┐┌────────────────────┐┌─┐   \n",
       "q_0: ┤ H ├┤0               ├┤0                   ├┤M├───\n",
       "     ├───┤│  oracleCircuit ││  reflectionCircuit │└╥┘┌─┐\n",
       "q_1: ┤ H ├┤1               ├┤1                   ├─╫─┤M├\n",
       "     └───┘└────────────────┘└────────────────────┘ ║ └╥┘\n",
       "c: 2/══════════════════════════════════════════════╩══╩═\n",
       "                                                   0  1 </pre>"
      ],
      "text/plain": [
       "     ┌───┐┌────────────────┐┌────────────────────┐┌─┐   \n",
       "q_0: ┤ H ├┤0               ├┤0                   ├┤M├───\n",
       "     ├───┤│  oracleCircuit ││  reflectionCircuit │└╥┘┌─┐\n",
       "q_1: ┤ H ├┤1               ├┤1                   ├─╫─┤M├\n",
       "     └───┘└────────────────┘└────────────────────┘ ║ └╥┘\n",
       "c: 2/══════════════════════════════════════════════╩══╩═\n",
       "                                                   0  1 "
      ]
     },
     "execution_count": 13,
     "metadata": {},
     "output_type": "execute_result"
    }
   ],
   "source": [
    "mainCircuit.measure([0,1], [0,1])\n",
    "mainCircuit.draw()"
   ]
  }
 ],
 "metadata": {
  "kernelspec": {
   "display_name": "Python 3",
   "language": "python",
   "name": "python3"
  },
  "language_info": {
   "codemirror_mode": {
    "name": "ipython",
    "version": 3
   },
   "file_extension": ".py",
   "mimetype": "text/x-python",
   "name": "python",
   "nbconvert_exporter": "python",
   "pygments_lexer": "ipython3",
   "version": "3.13.5"
  }
 },
 "nbformat": 4,
 "nbformat_minor": 5
}
